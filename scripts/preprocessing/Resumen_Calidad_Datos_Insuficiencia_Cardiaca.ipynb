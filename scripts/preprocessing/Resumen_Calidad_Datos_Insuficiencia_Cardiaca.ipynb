{
  "cells": [
    {
      "cell_type": "markdown",
      "id": "c848edf3",
      "metadata": {
        "id": "c848edf3"
      },
      "source": [
        "<img src=\"https://drive.google.com/uc?export=view&id=10mKgunAZowpvpttdYdjoDeCM2RSMGXer\" width=\"100%\">"
      ]
    },
    {
      "cell_type": "code",
      "source": [
        "pip install kaggle"
      ],
      "metadata": {
        "colab": {
          "base_uri": "https://localhost:8080/"
        },
        "id": "3_DM4-RxME4m",
        "outputId": "54ef170a-7be3-4a7d-8730-7d6021b58bec"
      },
      "id": "3_DM4-RxME4m",
      "execution_count": 1,
      "outputs": [
        {
          "output_type": "stream",
          "name": "stdout",
          "text": [
            "Requirement already satisfied: kaggle in /usr/local/lib/python3.10/dist-packages (1.6.17)\n",
            "Requirement already satisfied: six>=1.10 in /usr/local/lib/python3.10/dist-packages (from kaggle) (1.16.0)\n",
            "Requirement already satisfied: certifi>=2023.7.22 in /usr/local/lib/python3.10/dist-packages (from kaggle) (2024.8.30)\n",
            "Requirement already satisfied: python-dateutil in /usr/local/lib/python3.10/dist-packages (from kaggle) (2.8.2)\n",
            "Requirement already satisfied: requests in /usr/local/lib/python3.10/dist-packages (from kaggle) (2.32.3)\n",
            "Requirement already satisfied: tqdm in /usr/local/lib/python3.10/dist-packages (from kaggle) (4.66.6)\n",
            "Requirement already satisfied: python-slugify in /usr/local/lib/python3.10/dist-packages (from kaggle) (8.0.4)\n",
            "Requirement already satisfied: urllib3 in /usr/local/lib/python3.10/dist-packages (from kaggle) (2.2.3)\n",
            "Requirement already satisfied: bleach in /usr/local/lib/python3.10/dist-packages (from kaggle) (6.2.0)\n",
            "Requirement already satisfied: webencodings in /usr/local/lib/python3.10/dist-packages (from bleach->kaggle) (0.5.1)\n",
            "Requirement already satisfied: text-unidecode>=1.3 in /usr/local/lib/python3.10/dist-packages (from python-slugify->kaggle) (1.3)\n",
            "Requirement already satisfied: charset-normalizer<4,>=2 in /usr/local/lib/python3.10/dist-packages (from requests->kaggle) (3.4.0)\n",
            "Requirement already satisfied: idna<4,>=2.5 in /usr/local/lib/python3.10/dist-packages (from requests->kaggle) (3.10)\n"
          ]
        }
      ]
    },
    {
      "cell_type": "code",
      "source": [
        "import os\n",
        "from google.colab import files\n",
        "\n",
        "# Subir el archivo kaggle.json\n",
        "uploaded = files.upload()\n",
        "\n",
        "# Crear el directorio .kaggle y mover el archivo\n",
        "os.makedirs('/root/.kaggle', exist_ok=True)\n",
        "os.rename('kaggle.json', '/root/.kaggle/kaggle.json')\n",
        "!kaggle datasets download -d andrewmvd/heart-failure-clinical-data\n",
        "!unzip heart-failure-clinical-data.zip\n",
        "import pandas as pd\n",
        "df_insuficiencia_cardiaca = pd.read_csv('heart_failure_clinical_records_dataset.csv')"
      ],
      "metadata": {
        "colab": {
          "base_uri": "https://localhost:8080/",
          "height": 219
        },
        "id": "JN94ffvnMdVA",
        "outputId": "58051558-ded2-4530-bf76-33cf5ebbc1a4"
      },
      "id": "JN94ffvnMdVA",
      "execution_count": 2,
      "outputs": [
        {
          "output_type": "display_data",
          "data": {
            "text/plain": [
              "<IPython.core.display.HTML object>"
            ],
            "text/html": [
              "\n",
              "     <input type=\"file\" id=\"files-4294b114-0503-4e6d-bd57-58ca775a57e0\" name=\"files[]\" multiple disabled\n",
              "        style=\"border:none\" />\n",
              "     <output id=\"result-4294b114-0503-4e6d-bd57-58ca775a57e0\">\n",
              "      Upload widget is only available when the cell has been executed in the\n",
              "      current browser session. Please rerun this cell to enable.\n",
              "      </output>\n",
              "      <script>// Copyright 2017 Google LLC\n",
              "//\n",
              "// Licensed under the Apache License, Version 2.0 (the \"License\");\n",
              "// you may not use this file except in compliance with the License.\n",
              "// You may obtain a copy of the License at\n",
              "//\n",
              "//      http://www.apache.org/licenses/LICENSE-2.0\n",
              "//\n",
              "// Unless required by applicable law or agreed to in writing, software\n",
              "// distributed under the License is distributed on an \"AS IS\" BASIS,\n",
              "// WITHOUT WARRANTIES OR CONDITIONS OF ANY KIND, either express or implied.\n",
              "// See the License for the specific language governing permissions and\n",
              "// limitations under the License.\n",
              "\n",
              "/**\n",
              " * @fileoverview Helpers for google.colab Python module.\n",
              " */\n",
              "(function(scope) {\n",
              "function span(text, styleAttributes = {}) {\n",
              "  const element = document.createElement('span');\n",
              "  element.textContent = text;\n",
              "  for (const key of Object.keys(styleAttributes)) {\n",
              "    element.style[key] = styleAttributes[key];\n",
              "  }\n",
              "  return element;\n",
              "}\n",
              "\n",
              "// Max number of bytes which will be uploaded at a time.\n",
              "const MAX_PAYLOAD_SIZE = 100 * 1024;\n",
              "\n",
              "function _uploadFiles(inputId, outputId) {\n",
              "  const steps = uploadFilesStep(inputId, outputId);\n",
              "  const outputElement = document.getElementById(outputId);\n",
              "  // Cache steps on the outputElement to make it available for the next call\n",
              "  // to uploadFilesContinue from Python.\n",
              "  outputElement.steps = steps;\n",
              "\n",
              "  return _uploadFilesContinue(outputId);\n",
              "}\n",
              "\n",
              "// This is roughly an async generator (not supported in the browser yet),\n",
              "// where there are multiple asynchronous steps and the Python side is going\n",
              "// to poll for completion of each step.\n",
              "// This uses a Promise to block the python side on completion of each step,\n",
              "// then passes the result of the previous step as the input to the next step.\n",
              "function _uploadFilesContinue(outputId) {\n",
              "  const outputElement = document.getElementById(outputId);\n",
              "  const steps = outputElement.steps;\n",
              "\n",
              "  const next = steps.next(outputElement.lastPromiseValue);\n",
              "  return Promise.resolve(next.value.promise).then((value) => {\n",
              "    // Cache the last promise value to make it available to the next\n",
              "    // step of the generator.\n",
              "    outputElement.lastPromiseValue = value;\n",
              "    return next.value.response;\n",
              "  });\n",
              "}\n",
              "\n",
              "/**\n",
              " * Generator function which is called between each async step of the upload\n",
              " * process.\n",
              " * @param {string} inputId Element ID of the input file picker element.\n",
              " * @param {string} outputId Element ID of the output display.\n",
              " * @return {!Iterable<!Object>} Iterable of next steps.\n",
              " */\n",
              "function* uploadFilesStep(inputId, outputId) {\n",
              "  const inputElement = document.getElementById(inputId);\n",
              "  inputElement.disabled = false;\n",
              "\n",
              "  const outputElement = document.getElementById(outputId);\n",
              "  outputElement.innerHTML = '';\n",
              "\n",
              "  const pickedPromise = new Promise((resolve) => {\n",
              "    inputElement.addEventListener('change', (e) => {\n",
              "      resolve(e.target.files);\n",
              "    });\n",
              "  });\n",
              "\n",
              "  const cancel = document.createElement('button');\n",
              "  inputElement.parentElement.appendChild(cancel);\n",
              "  cancel.textContent = 'Cancel upload';\n",
              "  const cancelPromise = new Promise((resolve) => {\n",
              "    cancel.onclick = () => {\n",
              "      resolve(null);\n",
              "    };\n",
              "  });\n",
              "\n",
              "  // Wait for the user to pick the files.\n",
              "  const files = yield {\n",
              "    promise: Promise.race([pickedPromise, cancelPromise]),\n",
              "    response: {\n",
              "      action: 'starting',\n",
              "    }\n",
              "  };\n",
              "\n",
              "  cancel.remove();\n",
              "\n",
              "  // Disable the input element since further picks are not allowed.\n",
              "  inputElement.disabled = true;\n",
              "\n",
              "  if (!files) {\n",
              "    return {\n",
              "      response: {\n",
              "        action: 'complete',\n",
              "      }\n",
              "    };\n",
              "  }\n",
              "\n",
              "  for (const file of files) {\n",
              "    const li = document.createElement('li');\n",
              "    li.append(span(file.name, {fontWeight: 'bold'}));\n",
              "    li.append(span(\n",
              "        `(${file.type || 'n/a'}) - ${file.size} bytes, ` +\n",
              "        `last modified: ${\n",
              "            file.lastModifiedDate ? file.lastModifiedDate.toLocaleDateString() :\n",
              "                                    'n/a'} - `));\n",
              "    const percent = span('0% done');\n",
              "    li.appendChild(percent);\n",
              "\n",
              "    outputElement.appendChild(li);\n",
              "\n",
              "    const fileDataPromise = new Promise((resolve) => {\n",
              "      const reader = new FileReader();\n",
              "      reader.onload = (e) => {\n",
              "        resolve(e.target.result);\n",
              "      };\n",
              "      reader.readAsArrayBuffer(file);\n",
              "    });\n",
              "    // Wait for the data to be ready.\n",
              "    let fileData = yield {\n",
              "      promise: fileDataPromise,\n",
              "      response: {\n",
              "        action: 'continue',\n",
              "      }\n",
              "    };\n",
              "\n",
              "    // Use a chunked sending to avoid message size limits. See b/62115660.\n",
              "    let position = 0;\n",
              "    do {\n",
              "      const length = Math.min(fileData.byteLength - position, MAX_PAYLOAD_SIZE);\n",
              "      const chunk = new Uint8Array(fileData, position, length);\n",
              "      position += length;\n",
              "\n",
              "      const base64 = btoa(String.fromCharCode.apply(null, chunk));\n",
              "      yield {\n",
              "        response: {\n",
              "          action: 'append',\n",
              "          file: file.name,\n",
              "          data: base64,\n",
              "        },\n",
              "      };\n",
              "\n",
              "      let percentDone = fileData.byteLength === 0 ?\n",
              "          100 :\n",
              "          Math.round((position / fileData.byteLength) * 100);\n",
              "      percent.textContent = `${percentDone}% done`;\n",
              "\n",
              "    } while (position < fileData.byteLength);\n",
              "  }\n",
              "\n",
              "  // All done.\n",
              "  yield {\n",
              "    response: {\n",
              "      action: 'complete',\n",
              "    }\n",
              "  };\n",
              "}\n",
              "\n",
              "scope.google = scope.google || {};\n",
              "scope.google.colab = scope.google.colab || {};\n",
              "scope.google.colab._files = {\n",
              "  _uploadFiles,\n",
              "  _uploadFilesContinue,\n",
              "};\n",
              "})(self);\n",
              "</script> "
            ]
          },
          "metadata": {}
        },
        {
          "output_type": "stream",
          "name": "stdout",
          "text": [
            "Saving kaggle.json to kaggle.json\n",
            "Warning: Your Kaggle API key is readable by other users on this system! To fix this, you can run 'chmod 600 /root/.kaggle/kaggle.json'\n",
            "Dataset URL: https://www.kaggle.com/datasets/andrewmvd/heart-failure-clinical-data\n",
            "License(s): Attribution 4.0 International (CC BY 4.0)\n",
            "Downloading heart-failure-clinical-data.zip to /content\n",
            "  0% 0.00/3.97k [00:00<?, ?B/s]\n",
            "100% 3.97k/3.97k [00:00<00:00, 8.89MB/s]\n",
            "Archive:  heart-failure-clinical-data.zip\n",
            "  inflating: heart_failure_clinical_records_dataset.csv  \n"
          ]
        }
      ]
    },
    {
      "cell_type": "markdown",
      "metadata": {
        "id": "82ea3b5e"
      },
      "source": [
        "# **Resumen Calidad de Datos**\n",
        "---\n",
        "\n",
        "Este notebook realiza a través de google colaboratory el resumen de calidad de datos para el proyecto Predicción Insuficiencia Cardiaca Utilizando Técnicas de Machine Learning.\n",
        "\n",
        "Esta desarrollado por:\n",
        "\n",
        "- Henry Hernán Bolaños Bravo\n",
        "- Wilson Ricardo Torres Morales"
      ],
      "id": "82ea3b5e"
    },
    {
      "cell_type": "markdown",
      "source": [
        "![Falla-cardiaca.jpg](data:image/jpeg;base64,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)"
      ],
      "metadata": {
        "id": "_iPyMZ9pXvlT"
      },
      "id": "_iPyMZ9pXvlT"
    },
    {
      "cell_type": "markdown",
      "metadata": {
        "id": "4a4e145b"
      },
      "source": [
        "## **1. Datos Faltantes**\n",
        "---\n",
        "\n",
        "A continuación se realiza la identificación de datos faltantes de insuficiencia cardiaca. Los resultados muestran que no hay datos faltantes para los campos del dataset.\n"
      ],
      "id": "4a4e145b"
    },
    {
      "cell_type": "code",
      "source": [
        "def datos_faltantes(df):\n",
        "  # Se revisa si hay valores faltantes en el DataFrame\n",
        "  print(df.isnull().sum())\n",
        "\n",
        "datos_faltantes(df_insuficiencia_cardiaca)\n"
      ],
      "metadata": {
        "colab": {
          "base_uri": "https://localhost:8080/"
        },
        "id": "MviYCt8XMvfh",
        "outputId": "7359d340-dcba-4be8-99bf-7553b47a512a"
      },
      "id": "MviYCt8XMvfh",
      "execution_count": 3,
      "outputs": [
        {
          "output_type": "stream",
          "name": "stdout",
          "text": [
            "age                         0\n",
            "anaemia                     0\n",
            "creatinine_phosphokinase    0\n",
            "diabetes                    0\n",
            "ejection_fraction           0\n",
            "high_blood_pressure         0\n",
            "platelets                   0\n",
            "serum_creatinine            0\n",
            "serum_sodium                0\n",
            "sex                         0\n",
            "smoking                     0\n",
            "time                        0\n",
            "DEATH_EVENT                 0\n",
            "dtype: int64\n"
          ]
        }
      ]
    },
    {
      "cell_type": "markdown",
      "metadata": {
        "id": "rzmQVU65M4zY"
      },
      "source": [
        "## **2. Documentos Ilegibles Duplicidad de datos**\n",
        "---\n",
        "\n",
        "A continuación se realiza la identicacion de documentos ilegibles de datos correspondiente a duplicidad de datos de insuficiencia cardiaca.\n",
        "\n",
        "Se evidencia que no hay duplicados en los datos."
      ],
      "id": "rzmQVU65M4zY"
    },
    {
      "cell_type": "code",
      "source": [
        "# Comprobar duplicados\n",
        "def duplicados(df):\n",
        "  duplicados = df.duplicated().sum()\n",
        "  print(\"Número de registros duplicados:\", duplicados)\n",
        "\n",
        "duplicados(df_insuficiencia_cardiaca)"
      ],
      "metadata": {
        "colab": {
          "base_uri": "https://localhost:8080/"
        },
        "outputId": "03227189-d3c5-415d-b426-6eef54af7c91",
        "id": "2r4jtdT5M4zY"
      },
      "execution_count": 4,
      "outputs": [
        {
          "output_type": "stream",
          "name": "stdout",
          "text": [
            "Número de registros duplicados: 0\n"
          ]
        }
      ],
      "id": "2r4jtdT5M4zY"
    },
    {
      "cell_type": "markdown",
      "metadata": {
        "id": "4T8DzI4GOMnE"
      },
      "source": [
        "## **2. Documentos Ilegibles Tipos Datos Incorrectos**\n",
        "---\n",
        "\n",
        "A continuación se realiza la identicacion de documentos ilegibles de datos correspondiente a datos incorrectos de insuficiencia cardiaca.\n",
        "\n",
        "Se evidencia que no hay tipos incorrectos de datos de acuerdo al resultado de la función.\n"
      ],
      "id": "4T8DzI4GOMnE"
    },
    {
      "cell_type": "code",
      "source": [
        "def tipos_incorrectos(df):\n",
        "\n",
        "  # Verificar tipos de datos\n",
        "  print(\"Tipos de datos:\\n\", df.dtypes)\n",
        "\n",
        "  # Comprobar si hay datos que no corresponden al tipo esperado (por ejemplo, si se espera un número y hay cadenas)\n",
        "  for col in df.columns:\n",
        "     if df[col].dtype == 'object':  # Si la columna es de tipo objeto (string)\n",
        "        # Comprobar si hay valores que no son convertibles a numérico\n",
        "        try:\n",
        "            df[col].astype(float)\n",
        "        except ValueError:\n",
        "            print(f\"Columna '{col}' contiene datos ilegibles.\")\n",
        "\n",
        "tipos_incorrectos(df_insuficiencia_cardiaca)\n"
      ],
      "metadata": {
        "colab": {
          "base_uri": "https://localhost:8080/"
        },
        "outputId": "7e1f20a8-6ca5-4db5-9d2c-a048d42c9a48",
        "id": "OCvkzetvOMnE"
      },
      "execution_count": 5,
      "outputs": [
        {
          "output_type": "stream",
          "name": "stdout",
          "text": [
            "Tipos de datos:\n",
            " age                         float64\n",
            "anaemia                       int64\n",
            "creatinine_phosphokinase      int64\n",
            "diabetes                      int64\n",
            "ejection_fraction             int64\n",
            "high_blood_pressure           int64\n",
            "platelets                   float64\n",
            "serum_creatinine            float64\n",
            "serum_sodium                  int64\n",
            "sex                           int64\n",
            "smoking                       int64\n",
            "time                          int64\n",
            "DEATH_EVENT                   int64\n",
            "dtype: object\n"
          ]
        }
      ],
      "id": "OCvkzetvOMnE"
    },
    {
      "cell_type": "markdown",
      "metadata": {
        "id": "eCyBsexHO4ie"
      },
      "source": [
        "## **4. Mezcla de Formatos**\n",
        "---\n",
        "\n",
        "A continuación se realiza la identificación de campos que tengan diferentes tipos de formato en su campo de datos de insuficiencia cardiaca.\n",
        "\n",
        "De acuerdo a la función se determina que no hay campos que tengan mezclas de diferentes formatos.\n"
      ],
      "id": "eCyBsexHO4ie"
    },
    {
      "cell_type": "code",
      "source": [
        "def mezcla_formatos(df):\n",
        "   for col in df.columns:\n",
        "      # Obtener tipos únicos en la columna\n",
        "      tipos_unicos = df[col].apply(type).unique()\n",
        "\n",
        "      # Si hay más de un tipo, se considera que hay mezcla de formatos\n",
        "      if len(tipos_unicos) > 1:\n",
        "          print(f\"\\nColumna: {col}\")\n",
        "          print(\"Tipos únicos en la columna:\", tipos_unicos)\n",
        "          print(f\"-> La columna '{col}' tiene mezcla de formatos.\")\n",
        "      else:\n",
        "          print(f\"-> La columna '{col}' no tiene mezcla de formatos.\")\n",
        "\n",
        "mezcla_formatos(df_insuficiencia_cardiaca)"
      ],
      "metadata": {
        "colab": {
          "base_uri": "https://localhost:8080/"
        },
        "outputId": "ebf64bfd-2242-4b48-8796-09048ba4c7bf",
        "id": "Eo1xq9QpO4ie"
      },
      "execution_count": 7,
      "outputs": [
        {
          "output_type": "stream",
          "name": "stdout",
          "text": [
            "-> La columna 'age' no tiene mezcla de formatos.\n",
            "-> La columna 'anaemia' no tiene mezcla de formatos.\n",
            "-> La columna 'creatinine_phosphokinase' no tiene mezcla de formatos.\n",
            "-> La columna 'diabetes' no tiene mezcla de formatos.\n",
            "-> La columna 'ejection_fraction' no tiene mezcla de formatos.\n",
            "-> La columna 'high_blood_pressure' no tiene mezcla de formatos.\n",
            "-> La columna 'platelets' no tiene mezcla de formatos.\n",
            "-> La columna 'serum_creatinine' no tiene mezcla de formatos.\n",
            "-> La columna 'serum_sodium' no tiene mezcla de formatos.\n",
            "-> La columna 'sex' no tiene mezcla de formatos.\n",
            "-> La columna 'smoking' no tiene mezcla de formatos.\n",
            "-> La columna 'time' no tiene mezcla de formatos.\n",
            "-> La columna 'DEATH_EVENT' no tiene mezcla de formatos.\n"
          ]
        }
      ],
      "id": "Eo1xq9QpO4ie"
    },
    {
      "cell_type": "markdown",
      "id": "2144ba83",
      "metadata": {
        "id": "2144ba83"
      },
      "source": [
        "## Créditos\n",
        "---\n",
        "\n",
        "**Profesor**\n",
        "\n",
        "- [Jorge E. Camargo, PhD](https://dis.unal.edu.co/~jecamargom/)\n",
        "\n",
        "**Asistente docente**:\n",
        "\n",
        "- [Juan S. Lara MSc](https://www.linkedin.com/in/juan-sebastian-lara-ramirez-43570a214/)\n",
        "\n",
        "**Diseño de imágenes:**\n",
        "- [Brian Chaparro Cetina](mailto:bchaparro@unal.edu.co).\n",
        "\n",
        "**Universidad Nacional de Colombia** - *Facultad de Ingeniería*"
      ]
    }
  ],
  "metadata": {
    "jupytext": {
      "cell_metadata_filter": "-all"
    },
    "kernelspec": {
      "display_name": "Python 3",
      "name": "python3"
    },
    "colab": {
      "provenance": []
    }
  },
  "nbformat": 4,
  "nbformat_minor": 5
}